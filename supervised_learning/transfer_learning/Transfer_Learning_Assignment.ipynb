{
 "cells": [
  {
   "cell_type": "code",
   "execution_count": 49,
   "metadata": {},
   "outputs": [],
   "source": [
    "from tensorflow.keras.applications import MobileNet\n",
    "from tensorflow.keras.applications import VGG16\n",
    "from tensorflow.keras.applications import ResNet50\n",
    "from tensorflow.keras.applications.resnet50 import preprocess_input\n",
    "from tensorflow.keras.preprocessing.image import ImageDataGenerator\n",
    "from tensorflow.keras.layers import Dense\n",
    "import keras\n",
    "from tensorflow.keras import Sequential\n",
    "import keras_metrics as km\n"
   ]
  },
  {
   "cell_type": "markdown",
   "metadata": {},
   "source": [
    "# Create Models"
   ]
  },
  {
   "cell_type": "markdown",
   "metadata": {},
   "source": [
    "## 1.0 Resnet model"
   ]
  },
  {
   "cell_type": "code",
   "execution_count": 27,
   "metadata": {},
   "outputs": [
    {
     "name": "stdout",
     "output_type": "stream",
     "text": [
      "Model: \"sequential_7\"\n",
      "_________________________________________________________________\n",
      " Layer (type)                Output Shape              Param #   \n",
      "=================================================================\n",
      " resnet50 (Functional)       (None, 2048)              23587712  \n",
      "                                                                 \n",
      " dense_5 (Dense)             (None, 2)                 4098      \n",
      "                                                                 \n",
      "=================================================================\n",
      "Total params: 23591810 (90.00 MB)\n",
      "Trainable params: 4098 (16.01 KB)\n",
      "Non-trainable params: 23587712 (89.98 MB)\n",
      "_________________________________________________________________\n"
     ]
    }
   ],
   "source": [
    "num_classes = 2 # specifies the number of classes to be classified\n",
    "\n",
    "# Then add the new models \n",
    "\n",
    "new_model = Sequential()\n",
    "new_model.add(ResNet50(include_top=False, pooling='avg', weights='imagenet'))\n",
    "new_model.add(Dense(num_classes, activation='softmax'))\n",
    "\n",
    "# since first layer is already trained, restrict/freeze its retraining\n",
    "\n",
    "new_model.layers[0].trainable = False\n",
    "new_model.summary()"
   ]
  },
  {
   "cell_type": "markdown",
   "metadata": {},
   "source": [
    "## 2.0 VGG16 Model"
   ]
  },
  {
   "cell_type": "code",
   "execution_count": 28,
   "metadata": {},
   "outputs": [
    {
     "name": "stdout",
     "output_type": "stream",
     "text": [
      "Model: \"sequential_8\"\n",
      "_________________________________________________________________\n",
      " Layer (type)                Output Shape              Param #   \n",
      "=================================================================\n",
      " vgg16 (Functional)          (None, 512)               14714688  \n",
      "                                                                 \n",
      " dense_6 (Dense)             (None, 2)                 1026      \n",
      "                                                                 \n",
      "=================================================================\n",
      "Total params: 14715714 (56.14 MB)\n",
      "Trainable params: 1026 (4.01 KB)\n",
      "Non-trainable params: 14714688 (56.13 MB)\n",
      "_________________________________________________________________\n"
     ]
    }
   ],
   "source": [
    "v16_model = Sequential()\n",
    "#Add the VGG16 model to our new sequential\n",
    "v16_model.add(VGG16(include_top=False, pooling='avg', weights='imagenet'))\n",
    "#add a dense layer to this new model after the convolutions.\n",
    "v16_model.add(Dense(num_classes, activation='softmax'))\n",
    "#freeze the top layers of our model (vgg16 layers)\n",
    "v16_model.layers[0].trainable = False\n",
    "v16_model.summary()"
   ]
  },
  {
   "cell_type": "markdown",
   "metadata": {},
   "source": [
    "## 3.0 Mobile net"
   ]
  },
  {
   "cell_type": "code",
   "execution_count": 42,
   "metadata": {},
   "outputs": [
    {
     "name": "stdout",
     "output_type": "stream",
     "text": [
      "WARNING:tensorflow:`input_shape` is undefined or non-square, or `rows` is not in [128, 160, 192, 224]. Weights for input shape (224, 224) will be loaded as the default.\n"
     ]
    },
    {
     "name": "stdout",
     "output_type": "stream",
     "text": [
      "Model: \"sequential_11\"\n",
      "_________________________________________________________________\n",
      " Layer (type)                Output Shape              Param #   \n",
      "=================================================================\n",
      " mobilenet_1.00_224 (Functi  (None, 1024)              3228864   \n",
      " onal)                                                           \n",
      "                                                                 \n",
      " dense_9 (Dense)             (None, 2)                 2050      \n",
      "                                                                 \n",
      "=================================================================\n",
      "Total params: 3230914 (12.32 MB)\n",
      "Trainable params: 2050 (8.01 KB)\n",
      "Non-trainable params: 3228864 (12.32 MB)\n",
      "_________________________________________________________________\n"
     ]
    }
   ],
   "source": [
    "mobile_net = Sequential()\n",
    "mobile_net.add(MobileNet(include_top=False, pooling='avg', weights='imagenet'))\n",
    "#add a dense layer to this new model after the convolutions.\n",
    "mobile_net.add(Dense(num_classes, activation='softmax'))\n",
    "#freeze the top layers of our model (vgg16 layers)\n",
    "mobile_net.layers[0].trainable = False\n",
    "mobile_net.summary()"
   ]
  },
  {
   "cell_type": "markdown",
   "metadata": {},
   "source": [
    "# Compile models"
   ]
  },
  {
   "cell_type": "code",
   "execution_count": 67,
   "metadata": {},
   "outputs": [],
   "source": [
    "# Compile resnet model model\n",
    "precision = km.categorical_precision()\n",
    "new_model.compile (optimizer='sgd', loss='categorical_crossentropy', metrics=['accuracy'])\n",
    "v16_model.compile (optimizer='sgd', loss='categorical_crossentropy', metrics=['accuracy'])\n",
    "mobile_net.compile (optimizer='sgd', loss='categorical_crossentropy', metrics=['accuracy'])\n"
   ]
  },
  {
   "cell_type": "markdown",
   "metadata": {},
   "source": [
    "# Load Data and perfom Augmentation using data generator"
   ]
  },
  {
   "cell_type": "code",
   "execution_count": 64,
   "metadata": {},
   "outputs": [
    {
     "name": "stdout",
     "output_type": "stream",
     "text": [
      "Found 72 images belonging to 2 classes.\n"
     ]
    },
    {
     "name": "stdout",
     "output_type": "stream",
     "text": [
      "Found 20 images belonging to 2 classes.\n"
     ]
    }
   ],
   "source": [
    "#load the image data\n",
    "\n",
    "#first, declare the required image size \n",
    "image_size = 224\n",
    "# The image data generator is used to augment our dataset to make sure that our model does not see the same image twice. This is especially important given that we have a relatively small dataset, hence our model is prone to overfitting\n",
    "#Entropic capacity of a model. How much capacity is your model allowed to store\n",
    "data_generator = ImageDataGenerator(preprocessing_function=preprocess_input)\n",
    "\n",
    "train_generator = data_generator.flow_from_directory('../input/rural_and_urban_photos/train', target_size=(image_size, image_size),\n",
    "                                                     batch_size = 12, \n",
    "                                                     class_mode = 'categorical')\n",
    "validation_generator = data_generator.flow_from_directory('../input/rural_and_urban_photos/val', target_size=(image_size, image_size),\n",
    "                                                     batch_size = 20, \n",
    "                                                     class_mode = 'categorical')\n"
   ]
  },
  {
   "cell_type": "markdown",
   "metadata": {},
   "source": [
    "# Fit and adjust the models"
   ]
  },
  {
   "cell_type": "code",
   "execution_count": 70,
   "metadata": {},
   "outputs": [
    {
     "name": "stdout",
     "output_type": "stream",
     "text": [
      "Fitting the Resnet model\n",
      "6/6 [==============================] - 5s 838ms/step - loss: 0.0055 - accuracy: 1.0000 - val_loss: 0.0289 - val_accuracy: 1.0000\n",
      "Fitting the VGG16 model\n",
      "6/6 [==============================] - 9s 2s/step - loss: 3.6997e-04 - accuracy: 1.0000 - val_loss: 0.0664 - val_accuracy: 0.9500\n",
      "Fitting the Mobile net model\n",
      "6/6 [==============================] - 2s 258ms/step - loss: 0.0475 - accuracy: 1.0000 - val_loss: 0.1650 - val_accuracy: 0.9500\n"
     ]
    },
    {
     "data": {
      "text/plain": [
       "<keras.src.callbacks.History at 0x21f5cb5e910>"
      ]
     },
     "execution_count": 70,
     "metadata": {},
     "output_type": "execute_result"
    }
   ],
   "source": [
    "#fit the model to the data \n",
    "print('Fitting the Resnet model')\n",
    "new_model.fit(train_generator, steps_per_epoch=6, validation_data=validation_generator, validation_steps=1)\n",
    "print('Fitting the VGG16 model')\n",
    "v16_model.fit(train_generator, steps_per_epoch=6, validation_data=validation_generator, validation_steps=1)\n",
    "print('Fitting the Mobile net model')\n",
    "mobile_net.fit(train_generator,steps_per_epoch=6, validation_data=validation_generator, validation_steps=1)\n",
    "\n"
   ]
  },
  {
   "cell_type": "code",
   "execution_count": 71,
   "metadata": {},
   "outputs": [
    {
     "name": "stdout",
     "output_type": "stream",
     "text": [
      "1/1 [==============================] - 1s 1s/step\n",
      "1/1 [==============================] - 2s 2s/step\n",
      "1/1 [==============================] - 0s 442ms/step\n",
      "classification report for resnet model\n",
      "              precision    recall  f1-score   support\n",
      "\n",
      "           0       0.40      0.40      0.40        10\n",
      "           1       0.40      0.40      0.40        10\n",
      "\n",
      "    accuracy                           0.40        20\n",
      "   macro avg       0.40      0.40      0.40        20\n",
      "weighted avg       0.40      0.40      0.40        20\n",
      "\n",
      "classification report for vgg16 model\n",
      "              precision    recall  f1-score   support\n",
      "\n",
      "           0       0.44      0.40      0.42        10\n",
      "           1       0.45      0.50      0.48        10\n",
      "\n",
      "    accuracy                           0.45        20\n",
      "   macro avg       0.45      0.45      0.45        20\n",
      "weighted avg       0.45      0.45      0.45        20\n",
      "\n",
      "classification report for mobile net model\n",
      "              precision    recall  f1-score   support\n",
      "\n",
      "           0       0.55      0.60      0.57        10\n",
      "           1       0.56      0.50      0.53        10\n",
      "\n",
      "    accuracy                           0.55        20\n",
      "   macro avg       0.55      0.55      0.55        20\n",
      "weighted avg       0.55      0.55      0.55        20\n",
      "\n"
     ]
    }
   ],
   "source": [
    "from sklearn.metrics import classification_report\n",
    "import numpy as np\n",
    "\n",
    "y_true = validation_generator.classes\n",
    "\n",
    "y_pred_new_model = np.argmax(new_model.predict(validation_generator), axis=1)\n",
    "y_pred_v16 = np.argmax(v16_model.predict(validation_generator), axis=1)\n",
    "y_pred_mob_net = np.argmax(mobile_net.predict(validation_generator), axis=1)\n",
    "\n",
    "print('classification report for resnet model')\n",
    "print(classification_report(y_true, y_pred_new_model))\n",
    "print('classification report for vgg16 model')\n",
    "print(classification_report(y_true, y_pred_v16))\n",
    "print('classification report for mobile net model')\n",
    "print(classification_report(y_true, y_pred_mob_net))"
   ]
  }
 ],
 "metadata": {
  "kernelspec": {
   "display_name": "Python 3",
   "language": "python",
   "name": "python3"
  },
  "language_info": {
   "codemirror_mode": {
    "name": "ipython",
    "version": 3
   },
   "file_extension": ".py",
   "mimetype": "text/x-python",
   "name": "python",
   "nbconvert_exporter": "python",
   "pygments_lexer": "ipython3",
   "version": "3.11.9"
  }
 },
 "nbformat": 4,
 "nbformat_minor": 2
}
